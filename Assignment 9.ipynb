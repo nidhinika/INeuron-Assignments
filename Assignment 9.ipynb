{
 "cells": [
  {
   "cell_type": "markdown",
   "id": "997506fc-afad-4737-b726-c1608615487c",
   "metadata": {},
   "source": [
    "## Assignment 9"
   ]
  },
  {
   "cell_type": "markdown",
   "id": "64926c48-091c-455f-bd07-d21e049bdc5a",
   "metadata": {},
   "source": [
    "### 1.Write a Python program to check if the given number is a Disarium Number?"
   ]
  },
  {
   "cell_type": "code",
   "execution_count": 6,
   "id": "eb71aa7d-39a7-471f-8d60-1785cc5b20e5",
   "metadata": {},
   "outputs": [
    {
     "name": "stdin",
     "output_type": "stream",
     "text": [
      "Enter a number 135\n"
     ]
    },
    {
     "data": {
      "text/plain": [
       "True"
      ]
     },
     "execution_count": 6,
     "metadata": {},
     "output_type": "execute_result"
    }
   ],
   "source": [
    "def disarium_num(a):\n",
    "    coun=1\n",
    "    s=0\n",
    "    for i in a:\n",
    "        s=s+int(i)**coun\n",
    "        coun=coun+1\n",
    "    if s==int(a):\n",
    "        return True\n",
    "    else:\n",
    "        return False\n",
    "a=input(\"Enter a number\")\n",
    "disarium_num(a)  "
   ]
  },
  {
   "cell_type": "markdown",
   "id": "5e89170e-8fc8-4411-8b3a-69a7c9daf6c8",
   "metadata": {},
   "source": [
    "### 2.Write a Python program to print all disarium numbers between 1 to 100?"
   ]
  },
  {
   "cell_type": "code",
   "execution_count": 8,
   "id": "46b95076-10e2-4292-830d-b984cf5e9731",
   "metadata": {},
   "outputs": [
    {
     "name": "stdout",
     "output_type": "stream",
     "text": [
      "1\n",
      "2\n",
      "3\n",
      "4\n",
      "5\n",
      "6\n",
      "7\n",
      "8\n",
      "9\n",
      "89\n"
     ]
    }
   ],
   "source": [
    "for i in range(1,101):\n",
    "    if disarium_num(str(i))==True:\n",
    "        print(i)"
   ]
  },
  {
   "cell_type": "markdown",
   "id": "2ec3fb16-3e76-4df6-bad3-5e662842ee93",
   "metadata": {},
   "source": [
    "### 3.Write a Python program to check if the given number is Happy Number?"
   ]
  },
  {
   "cell_type": "code",
   "execution_count": 11,
   "id": "3a62917e-abf9-4ce1-84b3-f790f4a78438",
   "metadata": {},
   "outputs": [
    {
     "data": {
      "text/plain": [
       "23"
      ]
     },
     "execution_count": 11,
     "metadata": {},
     "output_type": "execute_result"
    }
   ],
   "source": [
    "123%100"
   ]
  },
  {
   "cell_type": "code",
   "execution_count": 77,
   "id": "284fd1cf-d565-4c44-9b7e-6c56af31e236",
   "metadata": {},
   "outputs": [],
   "source": [
    "def numSquareSum(n):\n",
    "    squareSum = 0;\n",
    "    while(n):\n",
    "        squareSum += (n % 10) * (n % 10);\n",
    "        n = int(n / 10);\n",
    "    return squareSum;\n",
    "def isHappynumber(n):\n",
    "    slow = n;\n",
    "    fast = n;\n",
    "    while(True):\n",
    "        slow = numSquareSum(slow);\n",
    "        fast = numSquareSum(numSquareSum(fast));\n",
    "        if(slow != fast):\n",
    "            continue;\n",
    "        else:\n",
    "            break;\n",
    " \n",
    "    return (slow == 1);"
   ]
  },
  {
   "cell_type": "code",
   "execution_count": 80,
   "id": "5821ac25-5b1b-432c-8a2d-7db986424a3c",
   "metadata": {},
   "outputs": [
    {
     "data": {
      "text/plain": [
       "True"
      ]
     },
     "execution_count": 80,
     "metadata": {},
     "output_type": "execute_result"
    }
   ],
   "source": [
    "isHappynumber(13)"
   ]
  },
  {
   "cell_type": "markdown",
   "id": "a2768f58-79b5-4dc5-893c-ce12c4e329f8",
   "metadata": {},
   "source": [
    "### 4. Write a Python program to print all happy numbers between 1 and 100?"
   ]
  },
  {
   "cell_type": "code",
   "execution_count": 56,
   "id": "ad4834f7-4060-476d-aa5a-bf0e90d16405",
   "metadata": {},
   "outputs": [
    {
     "name": "stdout",
     "output_type": "stream",
     "text": [
      "1\n",
      "10\n",
      "19\n",
      "26\n",
      "31\n",
      "43\n",
      "51\n",
      "56\n",
      "67\n",
      "72\n",
      "77\n",
      "83\n",
      "88\n",
      "92\n",
      "97\n",
      "100\n"
     ]
    }
   ],
   "source": [
    "for i in range(1,101):\n",
    "    if happy_num(i)==True:\n",
    "        print(i)\n"
   ]
  },
  {
   "cell_type": "markdown",
   "id": "35e9ab09-5929-4bd7-ae5a-f61c0aceb5f8",
   "metadata": {},
   "source": [
    "### 5. Write a Python program to determine whether the given number is a Harshad Number?"
   ]
  },
  {
   "cell_type": "code",
   "execution_count": 66,
   "id": "bfa19cba-6a48-47ad-b2fa-38b7b8b50a20",
   "metadata": {},
   "outputs": [],
   "source": [
    "def harshad_num(a):\n",
    "    s1=0\n",
    "    for i in str(a):\n",
    "        s1=s1+int(i)\n",
    "    if a%s1==0:\n",
    "        return True\n",
    "    else:\n",
    "        return False\n",
    "\n",
    "        "
   ]
  },
  {
   "cell_type": "code",
   "execution_count": 67,
   "id": "470e3e57-9898-4987-8813-0e0af70e6e86",
   "metadata": {},
   "outputs": [
    {
     "data": {
      "text/plain": [
       "True"
      ]
     },
     "execution_count": 67,
     "metadata": {},
     "output_type": "execute_result"
    }
   ],
   "source": [
    " harshad_num(21)"
   ]
  },
  {
   "cell_type": "markdown",
   "id": "98adb628-4d56-47c9-ad71-b66cde499c6c",
   "metadata": {},
   "source": [
    "### 6. Write a Python program to print all pronic numbers between 1 and 100?"
   ]
  },
  {
   "cell_type": "code",
   "execution_count": 73,
   "id": "2e23c5d5-df57-4693-b418-3858c9f8c10d",
   "metadata": {},
   "outputs": [
    {
     "data": {
      "text/plain": [
       "[1,\n",
       " 2,\n",
       " 3,\n",
       " 4,\n",
       " 5,\n",
       " 6,\n",
       " 7,\n",
       " 8,\n",
       " 9,\n",
       " 10,\n",
       " 12,\n",
       " 18,\n",
       " 20,\n",
       " 21,\n",
       " 24,\n",
       " 27,\n",
       " 30,\n",
       " 36,\n",
       " 40,\n",
       " 42,\n",
       " 45,\n",
       " 48,\n",
       " 50,\n",
       " 54,\n",
       " 60,\n",
       " 63,\n",
       " 70,\n",
       " 72,\n",
       " 80,\n",
       " 81,\n",
       " 84,\n",
       " 90,\n",
       " 100]"
      ]
     },
     "execution_count": 73,
     "metadata": {},
     "output_type": "execute_result"
    }
   ],
   "source": [
    "m=[]\n",
    "for i in range(1,101):\n",
    "    if  harshad_num(i):\n",
    "        m.append(i)\n",
    "m"
   ]
  },
  {
   "cell_type": "code",
   "execution_count": null,
   "id": "7bec13e7-b0d1-4359-88bc-16b8df656eb4",
   "metadata": {},
   "outputs": [],
   "source": []
  }
 ],
 "metadata": {
  "kernelspec": {
   "display_name": "Python 3 (ipykernel)",
   "language": "python",
   "name": "python3"
  },
  "language_info": {
   "codemirror_mode": {
    "name": "ipython",
    "version": 3
   },
   "file_extension": ".py",
   "mimetype": "text/x-python",
   "name": "python",
   "nbconvert_exporter": "python",
   "pygments_lexer": "ipython3",
   "version": "3.10.6"
  }
 },
 "nbformat": 4,
 "nbformat_minor": 5
}
