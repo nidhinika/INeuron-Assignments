{
 "cells": [
  {
   "cell_type": "markdown",
   "id": "fefba4a4-461a-49e5-b305-6a271d0c5106",
   "metadata": {},
   "source": [
    "# Assignment 7"
   ]
  },
  {
   "cell_type": "markdown",
   "id": "7feabc79-efde-4643-83dd-745b40939385",
   "metadata": {},
   "source": [
    "### 1. Write a Python Program to find sum of array?"
   ]
  },
  {
   "cell_type": "code",
   "execution_count": 14,
   "id": "ab515d5d-1664-4ee4-a479-c3ffce66da3b",
   "metadata": {},
   "outputs": [
    {
     "name": "stdin",
     "output_type": "stream",
     "text": [
      "\n",
      "Enter the numbers :  1 2 3 4 5 6 78 98\n"
     ]
    },
    {
     "name": "stdout",
     "output_type": "stream",
     "text": [
      "197\n"
     ]
    }
   ],
   "source": [
    "a = list(map(int,input(\"\\nEnter the numbers : \").split()))\n",
    "sum1=0\n",
    "for i in a:\n",
    "    sum1=sum1+i\n",
    "print(sum1)\n"
   ]
  },
  {
   "cell_type": "markdown",
   "id": "5043b533-fb63-4f3c-a156-07de58ee0b08",
   "metadata": {},
   "source": [
    "### 2. Write a Python Program to find largest element in an array?"
   ]
  },
  {
   "cell_type": "code",
   "execution_count": 16,
   "id": "86f84f1c-9549-4b89-9f64-3e661585a629",
   "metadata": {},
   "outputs": [
    {
     "name": "stdout",
     "output_type": "stream",
     "text": [
      "100\n"
     ]
    }
   ],
   "source": [
    "b=[1, 3, 78, 90, 100, 89]\n",
    "max1=b[0]\n",
    "for i in b:\n",
    "    if i>max1:\n",
    "        max1=i\n",
    "print(max1)"
   ]
  },
  {
   "cell_type": "markdown",
   "id": "e3d6ef80-37cf-4610-93dd-7569f276f502",
   "metadata": {},
   "source": [
    "### 3. Write a Python Program for array rotation?"
   ]
  },
  {
   "cell_type": "code",
   "execution_count": 30,
   "id": "c77a4821-8b10-4020-b09e-1b0a0aa77ab9",
   "metadata": {},
   "outputs": [
    {
     "name": "stdout",
     "output_type": "stream",
     "text": [
      "[3, 4, 5, 6, 1, 2]\n"
     ]
    }
   ],
   "source": [
    "def rotate_array(a,d):\n",
    "    temp=[]\n",
    "    for i in range(d,len(a)):\n",
    "        temp.append(a[i])\n",
    "    for j in range(0,d):\n",
    "        temp.append(a[j])\n",
    "    a=temp.copy()\n",
    "    print(a)\n",
    "        \n",
    "        \n",
    "        \n",
    "\n",
    "rotate_array([1,2,3,4,5,6],2)        "
   ]
  },
  {
   "cell_type": "markdown",
   "id": "0449b6c8-7d8d-4924-98ed-ffa4dc7f5dbc",
   "metadata": {},
   "source": [
    "### 4. Write a Python Program to Split the array and add the first part to the end?"
   ]
  },
  {
   "cell_type": "code",
   "execution_count": 32,
   "id": "6938451e-11d1-4f1b-a7b7-e6cf985602cd",
   "metadata": {},
   "outputs": [
    {
     "name": "stdout",
     "output_type": "stream",
     "text": [
      "[5, 7, 9]\n"
     ]
    }
   ],
   "source": [
    "def split_array(a):\n",
    "    part1=a[:len(a)//2]\n",
    "    part2=a[len(a)//2:]\n",
    "    k=[]\n",
    "    for i in range(len(part1)):\n",
    "        k.append(part1[i]+part2[i])\n",
    "    print(k)\n",
    "split_array([1,2,3,4,5,6])"
   ]
  },
  {
   "cell_type": "markdown",
   "id": "b9e2ba08-9580-4483-8991-a1ade62f132e",
   "metadata": {},
   "source": [
    "### 5. Write a Python Program to check if given array is Monotonic?"
   ]
  },
  {
   "cell_type": "code",
   "execution_count": 35,
   "id": "4132ed73-f579-4479-a620-d783d9cae7b0",
   "metadata": {},
   "outputs": [
    {
     "ename": "TypeError",
     "evalue": "'NoneType' object is not iterable",
     "output_type": "error",
     "traceback": [
      "\u001b[0;31m---------------------------------------------------------------------------\u001b[0m",
      "\u001b[0;31mTypeError\u001b[0m                                 Traceback (most recent call last)",
      "Cell \u001b[0;32mIn [35], line 3\u001b[0m\n\u001b[1;32m      1\u001b[0m a\u001b[38;5;241m=\u001b[39m[\u001b[38;5;241m1\u001b[39m,\u001b[38;5;241m2\u001b[39m,\u001b[38;5;241m3\u001b[39m,\u001b[38;5;241m5\u001b[39m]\n\u001b[1;32m      2\u001b[0m x\u001b[38;5;241m=\u001b[39m[]\n\u001b[0;32m----> 3\u001b[0m \u001b[38;5;28;43mlist\u001b[39;49m\u001b[43m(\u001b[49m\u001b[43mx\u001b[49m\u001b[38;5;241;43m.\u001b[39;49m\u001b[43mextend\u001b[49m\u001b[43m(\u001b[49m\u001b[43ma\u001b[49m\u001b[43m)\u001b[49m\u001b[43m)\u001b[49m\n",
      "\u001b[0;31mTypeError\u001b[0m: 'NoneType' object is not iterable"
     ]
    }
   ],
   "source": [
    "a=[1,2,3,5]\n",
    "def is_monotonic(a):\n",
    "    found1=0\n",
    "    found2=0\n",
    "    for i in range(len(a)-1):\n",
    "        if a[i]>a[i+1]:\n",
    "            found=\n",
    "    for j in range(len(a)-1):\n",
    "        if a[i]<=a[i+1]"
   ]
  },
  {
   "cell_type": "code",
   "execution_count": null,
   "id": "578bc887-8cb7-4095-835b-5de724ec9bc1",
   "metadata": {},
   "outputs": [],
   "source": []
  }
 ],
 "metadata": {
  "kernelspec": {
   "display_name": "Python 3 (ipykernel)",
   "language": "python",
   "name": "python3"
  },
  "language_info": {
   "codemirror_mode": {
    "name": "ipython",
    "version": 3
   },
   "file_extension": ".py",
   "mimetype": "text/x-python",
   "name": "python",
   "nbconvert_exporter": "python",
   "pygments_lexer": "ipython3",
   "version": "3.10.6"
  }
 },
 "nbformat": 4,
 "nbformat_minor": 5
}
