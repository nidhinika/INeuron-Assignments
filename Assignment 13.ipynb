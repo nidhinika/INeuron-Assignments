{
 "cells": [
  {
   "cell_type": "markdown",
   "id": "769eda44-f205-4cba-b7d2-a5867f488d99",
   "metadata": {},
   "source": [
    "## Assignment 13"
   ]
  },
  {
   "cell_type": "markdown",
   "id": "fa75cea9-b1a5-46ca-9e46-9d0b7aec693d",
   "metadata": {},
   "source": [
    "### Question 1:\n",
    "Write a program that calculates and prints the value according to the given formula:\n",
    "Q = Square root of [(2 * C * D)/H]\n",
    "Following are the fixed values of C and H:\n",
    "C is 50. H is 30.\n",
    "D is the variable whose values should be input to your program in a comma-separated\n",
    "sequence.\n",
    "Example\n",
    "Let us assume the following comma separated input sequence is given to the program:\n",
    "100,150,180\n",
    "The output of the program should be:\n",
    "18,22,24"
   ]
  },
  {
   "cell_type": "code",
   "execution_count": 9,
   "id": "8e2b80a6-63e4-4ed6-a554-4dae0a06fb02",
   "metadata": {},
   "outputs": [
    {
     "name": "stdin",
     "output_type": "stream",
     "text": [
      "\n",
      "Enter the numbers :  100, 150, 180\n"
     ]
    },
    {
     "name": "stdout",
     "output_type": "stream",
     "text": [
      "18.24828759089466 22.360679774997898 24.49489742783178 "
     ]
    }
   ],
   "source": [
    "import math\n",
    "C=50\n",
    "H=30\n",
    "D=list(map(int,input(\"\\nEnter the numbers : \").strip().split(\",\")))\n",
    "for i in D:\n",
    "    print(math.sqrt((2*C*i)//H),end=\" \")\n"
   ]
  },
  {
   "cell_type": "markdown",
   "id": "3ba48dcf-99b7-4048-8c1a-a51415780b56",
   "metadata": {},
   "source": [
    "### Question 2:\n",
    "Write a program which takes 2 digits, X,Y as input and generates a 2-dimensional array. The\n",
    "element value in the i-th row and j-th column of the array should be i*j.\n",
    "Note: i=0,1.., X-1; j=0,1,¡Y-1.\n",
    "Example\n",
    "Suppose the following inputs are given to the program:\n",
    "3,5\n",
    "Then, the output of the program should be:\n",
    "[[0, 0, 0, 0, 0], [0, 1, 2, 3, 4], [0, 2, 4, 6, 8]]"
   ]
  },
  {
   "cell_type": "code",
   "execution_count": 11,
   "id": "546b855d-46c1-40d9-8462-e6f359a29fa6",
   "metadata": {},
   "outputs": [
    {
     "name": "stdin",
     "output_type": "stream",
     "text": [
      " 3\n",
      " 5\n"
     ]
    },
    {
     "data": {
      "text/plain": [
       "[[0, 0, 0, 0, 0], [0, 1, 2, 3, 4], [0, 2, 4, 6, 8]]"
      ]
     },
     "execution_count": 11,
     "metadata": {},
     "output_type": "execute_result"
    }
   ],
   "source": [
    "x=int(input())\n",
    "y=int(input())\n",
    "[[i*j for j in range(y)]for i in range(x)]\n"
   ]
  },
  {
   "cell_type": "markdown",
   "id": "d01aeabe-ba2d-470c-ab74-329f0d6acda3",
   "metadata": {},
   "source": [
    "### Question 3:\n",
    "Write a program that accepts a comma separated sequence of words as input and prints the\n",
    "words in a comma-separated sequence after sorting them alphabetically.\n",
    "Suppose the following input is supplied to the program:\n",
    "without,hello,bag,world\n",
    "Then, the output should be:\n",
    "bag,hello,without,world"
   ]
  },
  {
   "cell_type": "code",
   "execution_count": 14,
   "id": "dc189695-f619-46e6-9da0-1793a579634d",
   "metadata": {},
   "outputs": [
    {
     "name": "stdin",
     "output_type": "stream",
     "text": [
      "  without,hello,bag,world\n"
     ]
    },
    {
     "name": "stdout",
     "output_type": "stream",
     "text": [
      "bag, hello, without, world\n"
     ]
    }
   ],
   "source": [
    "a=input().strip().split(\",\")\n",
    "b=sorted(a)\n",
    "print(\", \".join(b))"
   ]
  },
  {
   "cell_type": "markdown",
   "id": "986be906-978d-4f88-9c99-8d5f9e882df2",
   "metadata": {},
   "source": [
    "### Question 4:\n",
    "Write a program that accepts a sequence of whitespace separated words as input and prints\n",
    "the words after removing all duplicate words and sorting them alphanumerically.\n",
    "Suppose the following input is supplied to the program:\n",
    "hello world and practice makes perfect and hello world again\n",
    "Then, the output should be:\n",
    "again and hello makes perfect practice world"
   ]
  },
  {
   "cell_type": "code",
   "execution_count": 18,
   "id": "c22811a9-a78e-4f93-a970-9cc9b828109b",
   "metadata": {},
   "outputs": [
    {
     "name": "stdout",
     "output_type": "stream",
     "text": [
      "again and hello makes perfect practice world\n"
     ]
    }
   ],
   "source": [
    "a=\"hello world and practice makes perfect and hello world again\"\n",
    "a=a.split()\n",
    "k={}\n",
    "for i in a:\n",
    "    if i not in k:\n",
    "        k[i]=1\n",
    "    if i in k:\n",
    "        k[i]=k[i]+1\n",
    "s=sorted(list(k.keys()))\n",
    "print(\" \".join(s))\n"
   ]
  },
  {
   "cell_type": "markdown",
   "id": "c5c9d694-553f-4f71-b5c4-3aaad6191df6",
   "metadata": {},
   "source": [
    "### Question 5:\n",
    "Write a program that accepts a sentence and calculate the number of letters and digits.\n",
    "Suppose the following input is supplied to the program:\n",
    "hello world! 123\n",
    "Then, the output should be:\n",
    "LETTERS 10\n",
    "DIGITS 3"
   ]
  },
  {
   "cell_type": "code",
   "execution_count": 22,
   "id": "bd0fb913-8444-4212-86ee-d5ce743eae46",
   "metadata": {},
   "outputs": [
    {
     "name": "stdin",
     "output_type": "stream",
     "text": [
      " hello world! 123\n"
     ]
    },
    {
     "name": "stdout",
     "output_type": "stream",
     "text": [
      "LETTERS 10 DIGITS 3\n"
     ]
    }
   ],
   "source": [
    "a=input()\n",
    "letter=0\n",
    "digit=0\n",
    "for i in a:\n",
    "    if i.isalpha():\n",
    "        letter=letter+1\n",
    "    if i.isdigit():\n",
    "        digit=digit+1\n",
    "\n",
    "print(f\"LETTERS {letter} DIGITS {digit}\")        \n"
   ]
  },
  {
   "cell_type": "markdown",
   "id": "6d7bdc08-d7c7-4e3d-b09b-c4f22712daf4",
   "metadata": {},
   "source": [
    "### Question 6:\n",
    "A website requires the users to input username and password to register. Write a program to\n",
    "check the validity of password input by users.\n",
    "Following are the criteria for checking the password:\n",
    "1. At least 1 letter between [a-z]\n",
    "2. At least 1 number between [0-9]\n",
    "1. At least 1 letter between [A-Z]\n",
    "3. At least 1 character from [$#@]\n",
    "4. Minimum length of transaction password: 6\n",
    "5. Maximum length of transaction password: 12\n",
    "Your program should accept a sequence of comma separated passwords and will check them\n",
    "according to the above criteria. Passwords that match the criteria are to be printed, each\n",
    "separated by a comma.\n",
    "Example\n",
    "If the following passwords are given as input to the program:\n",
    "ABd1234@1,a F1#,2w3E*,2We3345\n",
    "Then, the output of the program should be:\n",
    "ABd1234@1"
   ]
  },
  {
   "cell_type": "code",
   "execution_count": 35,
   "id": "d214c37c-e2ed-4c45-8ee0-92de1f76c4ac",
   "metadata": {},
   "outputs": [],
   "source": [
    "def pass_check(password):\n",
    "    if len(password)<6 or len(password)>12:\n",
    "        return False\n",
    "    m={\"low\":0,\"dig\":0,\"cap\":0,\"spl\":0}\n",
    "    for i in password:\n",
    "        if i.islower():\n",
    "            m[\"low\"]=m[\"low\"]+1\n",
    "        elif i.isupper():\n",
    "            m[\"cap\"]=m[\"cap\"]+1\n",
    "        elif i.isdigit():\n",
    "            m[\"dig\"]=m[\"dig\"]+1\n",
    "        elif i in {\"$\",\"#\",\"@\"}:\n",
    "            m[\"spl\"]=m[\"spl\"]+1\n",
    "    for i in m.values():\n",
    "        if i==0:\n",
    "            return False\n",
    "    if sum(m.values())==len(password):\n",
    "        return True\n",
    "    else:\n",
    "        return False\n",
    "    \n"
   ]
  },
  {
   "cell_type": "code",
   "execution_count": 36,
   "id": "9d09098a-1240-4afc-a7a5-e9d8b4642a83",
   "metadata": {},
   "outputs": [
    {
     "name": "stdin",
     "output_type": "stream",
     "text": [
      " ABd1234@1,a F1#,2w3E*,2We3345\n"
     ]
    },
    {
     "name": "stdout",
     "output_type": "stream",
     "text": [
      "ABd1234@1\n",
      "ABd1234@1\n",
      "a F1#\n",
      "2w3E*\n",
      "2We3345\n"
     ]
    }
   ],
   "source": [
    "a=input().split(\",\")\n",
    "for i in a:\n",
    "    print(i)\n",
    "    if pass_check(i):\n",
    "        print(i)"
   ]
  },
  {
   "cell_type": "code",
   "execution_count": null,
   "id": "efe55fea-9443-4022-803c-d8130393f2f3",
   "metadata": {},
   "outputs": [],
   "source": []
  }
 ],
 "metadata": {
  "kernelspec": {
   "display_name": "Python 3 (ipykernel)",
   "language": "python",
   "name": "python3"
  },
  "language_info": {
   "codemirror_mode": {
    "name": "ipython",
    "version": 3
   },
   "file_extension": ".py",
   "mimetype": "text/x-python",
   "name": "python",
   "nbconvert_exporter": "python",
   "pygments_lexer": "ipython3",
   "version": "3.10.6"
  }
 },
 "nbformat": 4,
 "nbformat_minor": 5
}
