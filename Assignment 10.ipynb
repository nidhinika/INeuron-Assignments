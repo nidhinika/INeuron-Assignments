{
 "cells": [
  {
   "cell_type": "markdown",
   "id": "ead3f63d-a52d-493f-9b4d-8fdf51e63642",
   "metadata": {},
   "source": [
    "## Assignment 10"
   ]
  },
  {
   "cell_type": "markdown",
   "id": "70491229-9a23-4e5b-8751-c1f4aa8e096b",
   "metadata": {},
   "source": [
    "### 1. Write a Python program to find sum of elements in list?"
   ]
  },
  {
   "cell_type": "code",
   "execution_count": 1,
   "id": "c3a37171-9ef2-4f6e-9778-42391e2130da",
   "metadata": {},
   "outputs": [
    {
     "name": "stdout",
     "output_type": "stream",
     "text": [
      "36\n"
     ]
    }
   ],
   "source": [
    "a=[1,2,3,4,5,6,7,8]\n",
    "s1=0\n",
    "for i in a:\n",
    "    s1=s1+i\n",
    "print(s1)"
   ]
  },
  {
   "cell_type": "markdown",
   "id": "e37ce5be-b234-412f-a667-2a9e07df20bc",
   "metadata": {},
   "source": [
    "### 2. Write a Python program to Multiply all numbers in the list?"
   ]
  },
  {
   "cell_type": "code",
   "execution_count": 2,
   "id": "628ffda6-c9a9-4e67-9a95-e2882a9bef34",
   "metadata": {},
   "outputs": [
    {
     "name": "stdout",
     "output_type": "stream",
     "text": [
      "5040\n"
     ]
    }
   ],
   "source": [
    "a=[1,2,3,4,5,6,7]\n",
    "prod=1\n",
    "for i in a:\n",
    "    prod=prod*i\n",
    "print(prod)"
   ]
  },
  {
   "cell_type": "markdown",
   "id": "b77bc3e3-33ae-4181-82f8-9495ccc3b18e",
   "metadata": {},
   "source": [
    "### 3. Write a Python program to find smallest number in a list?"
   ]
  },
  {
   "cell_type": "code",
   "execution_count": 3,
   "id": "02604ad2-c40e-4b62-a97d-43202a384bc0",
   "metadata": {},
   "outputs": [
    {
     "name": "stdout",
     "output_type": "stream",
     "text": [
      "0\n"
     ]
    }
   ],
   "source": [
    "a=[1,2,3,4,67,4,0]\n",
    "small=a[0]\n",
    "for i in range(1,len(a)):\n",
    "    if a[i]<small:\n",
    "        small=a[i]\n",
    "print(small)"
   ]
  },
  {
   "cell_type": "markdown",
   "id": "3bab4f23-ecfe-4d90-8fcf-a1e39771fcdc",
   "metadata": {},
   "source": [
    "### 4. Write a Python program to find largest number in a list?"
   ]
  },
  {
   "cell_type": "code",
   "execution_count": 5,
   "id": "f627ea90-4d81-45b4-a8a4-1650999133fc",
   "metadata": {},
   "outputs": [
    {
     "name": "stdout",
     "output_type": "stream",
     "text": [
      "67\n"
     ]
    }
   ],
   "source": [
    "a=[1,2,3,4,67,4,0]\n",
    "lar=a[0]\n",
    "for i in range(1,len(a)):\n",
    "    if a[i]>lar:\n",
    "        lar=a[i]\n",
    "print(lar)"
   ]
  },
  {
   "cell_type": "markdown",
   "id": "7cc6cd9b-a0a0-436e-8e33-c96792bb0f7a",
   "metadata": {},
   "source": [
    "### 5. Write a Python program to find second largest number in a list?"
   ]
  },
  {
   "cell_type": "code",
   "execution_count": 20,
   "id": "e5e5d36b-5130-4ba3-92fb-91ae348229f1",
   "metadata": {},
   "outputs": [
    {
     "name": "stdout",
     "output_type": "stream",
     "text": [
      "26 35\n"
     ]
    }
   ],
   "source": [
    "a=[100,26,35,40,65,87,90]\n",
    "sm1=1000000000\n",
    "sm2=100000\n",
    "for i in range(len(a)):\n",
    "    if a[i]<sm1:\n",
    "        sm1=a[i]\n",
    "    if a[i]<sm2 or sm2<sm1:\n",
    "        (sm1,sm2)=(sm2,sm1)\n",
    "    \n",
    "print(sm1,sm2)\n"
   ]
  },
  {
   "cell_type": "markdown",
   "id": "a98e2681-08f4-4dfe-91d3-f7e4bfa21dd8",
   "metadata": {},
   "source": [
    "### 6. Write a Python program to find N largest elements from a list?"
   ]
  },
  {
   "cell_type": "code",
   "execution_count": 27,
   "id": "e2fdfc34-ff07-474e-85d0-56efcb521874",
   "metadata": {},
   "outputs": [
    {
     "name": "stdout",
     "output_type": "stream",
     "text": [
      "100,90,87,65,"
     ]
    }
   ],
   "source": [
    "a=[100,26,35,40,65,87,90]\n",
    "b=sorted(a)\n",
    "n=4\n",
    "for i in range(1,5):\n",
    "    print(b[-i] , end=\",\")"
   ]
  },
  {
   "cell_type": "markdown",
   "id": "12938df1-715a-4944-907f-3883ba81138f",
   "metadata": {},
   "source": [
    "### 7. Write a Python program to print even numbers in a list? "
   ]
  },
  {
   "cell_type": "code",
   "execution_count": 29,
   "id": "e383d6be-8053-4e51-8120-7411b0abf41e",
   "metadata": {},
   "outputs": [
    {
     "name": "stdout",
     "output_type": "stream",
     "text": [
      "[100, 26, 40, 90]\n"
     ]
    }
   ],
   "source": [
    "a=[100,26,35,40,65,87,90]\n",
    "b=[i for i in a if i%2==0]\n",
    "print(b)"
   ]
  },
  {
   "cell_type": "markdown",
   "id": "b0dfd096-b31c-413a-8b08-a5dd836be7fa",
   "metadata": {},
   "source": [
    "### 8. Write a Python program to print odd numbers in a List?"
   ]
  },
  {
   "cell_type": "code",
   "execution_count": 30,
   "id": "7bf6d405-d7f1-4f74-8494-2d452222bf89",
   "metadata": {},
   "outputs": [
    {
     "name": "stdout",
     "output_type": "stream",
     "text": [
      "[35, 65, 87]\n"
     ]
    }
   ],
   "source": [
    "a=[100,26,35,40,65,87,90]\n",
    "b=[i for i in a if i%2!=0]\n",
    "print(b)"
   ]
  },
  {
   "cell_type": "markdown",
   "id": "ec809e2d-5da6-4fbc-a6da-6c43d75d0569",
   "metadata": {},
   "source": [
    "### 9. Write a Python program to Remove empty List from List?"
   ]
  },
  {
   "cell_type": "code",
   "execution_count": 32,
   "id": "3e1b737e-bd7e-481b-bf9a-d18a2bb28ba2",
   "metadata": {},
   "outputs": [
    {
     "name": "stdout",
     "output_type": "stream",
     "text": [
      "[1, 2, 3, 4, 5, 6, 7]\n"
     ]
    }
   ],
   "source": [
    "a=[1,2,3,4,[],5,6,7,[]]\n",
    "b=[i for i in a if type(i)!=type(a)]\n",
    "print(b)"
   ]
  },
  {
   "cell_type": "markdown",
   "id": "8d3ccad0-6c96-44e4-84e3-1a7251a0af48",
   "metadata": {},
   "source": [
    "### 10. Write a Python program to Cloning or Copying a list?"
   ]
  },
  {
   "cell_type": "code",
   "execution_count": 33,
   "id": "a862e5ea-29cb-43e2-9042-9ce482246b8f",
   "metadata": {},
   "outputs": [
    {
     "name": "stdout",
     "output_type": "stream",
     "text": [
      "[1, 2, 3, 4]\n"
     ]
    }
   ],
   "source": [
    "a=[1,2,3,4]\n",
    "b=a.copy()\n",
    "print(b)"
   ]
  },
  {
   "cell_type": "markdown",
   "id": "6fe9086c-0ef3-4f5c-9a90-4a6e1a77a23b",
   "metadata": {},
   "source": [
    "### 11. Write a Python program to Count occurrences of an element in a list?"
   ]
  },
  {
   "cell_type": "code",
   "execution_count": 1,
   "id": "4ad1db0d-f4c8-4665-a668-8ac1c759ec07",
   "metadata": {},
   "outputs": [
    {
     "data": {
      "text/plain": [
       "5"
      ]
     },
     "execution_count": 1,
     "metadata": {},
     "output_type": "execute_result"
    }
   ],
   "source": [
    "a=[1,2,2,2,2,4,6,2,7,7,8,8]\n",
    "a.count(2)"
   ]
  },
  {
   "cell_type": "code",
   "execution_count": null,
   "id": "a49da853-9c8d-480b-88df-9950528b4472",
   "metadata": {},
   "outputs": [],
   "source": []
  }
 ],
 "metadata": {
  "kernelspec": {
   "display_name": "Python 3 (ipykernel)",
   "language": "python",
   "name": "python3"
  },
  "language_info": {
   "codemirror_mode": {
    "name": "ipython",
    "version": 3
   },
   "file_extension": ".py",
   "mimetype": "text/x-python",
   "name": "python",
   "nbconvert_exporter": "python",
   "pygments_lexer": "ipython3",
   "version": "3.10.6"
  }
 },
 "nbformat": 4,
 "nbformat_minor": 5
}
