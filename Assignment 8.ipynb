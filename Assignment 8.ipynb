{
 "cells": [
  {
   "cell_type": "markdown",
   "id": "d2814deb-560d-49e1-8a97-4d2f43486edf",
   "metadata": {},
   "source": [
    "## Assignment 8"
   ]
  },
  {
   "cell_type": "markdown",
   "id": "35ac9dca-abe8-438c-9a45-03132c16e74d",
   "metadata": {},
   "source": [
    "### 1. Write a Python Program to Add Two Matrices?"
   ]
  },
  {
   "cell_type": "code",
   "execution_count": 12,
   "id": "863c9008-c2b0-47a7-851e-d80bbdaa0058",
   "metadata": {},
   "outputs": [
    {
     "data": {
      "text/plain": [
       "[[3, 5, 7], [3, 5, 7]]"
      ]
     },
     "execution_count": 12,
     "metadata": {},
     "output_type": "execute_result"
    }
   ],
   "source": [
    "a=[[1,2,3],[2,3,4]]\n",
    "b=[[2,3,4],[1,2,3]]\n",
    "[[a[i][j]+b[i][j] for j in range(len(a[0]))] for i in range(len(a))]\n",
    "\n"
   ]
  },
  {
   "cell_type": "markdown",
   "id": "c937e2ed-3600-4424-b25d-03fdcce898f9",
   "metadata": {},
   "source": [
    "## 2.Write a Python Program to Multiply Two Matrices?"
   ]
  },
  {
   "cell_type": "raw",
   "id": "36572bc2-f716-49a9-ba6f-48590676f4ec",
   "metadata": {},
   "source": [
    "[1,2,3] [2,3]\n",
    "[2,3,4] [3,4] =[20, 17]     \n",
    "        [4,2]  [29,26]"
   ]
  },
  {
   "cell_type": "code",
   "execution_count": 54,
   "id": "a71db498-4105-4199-aa1b-8cb42f83e220",
   "metadata": {},
   "outputs": [],
   "source": [
    "a=[[1,2,3],[2,3,4]]\n",
    "b=[[2,3],[3,4],[4,2]]"
   ]
  },
  {
   "cell_type": "code",
   "execution_count": 57,
   "id": "aa31f452-1d47-4886-84f1-892ce7e4fdcc",
   "metadata": {},
   "outputs": [
    {
     "name": "stdout",
     "output_type": "stream",
     "text": [
      "[[20, 17], [29, 26]]\n"
     ]
    }
   ],
   "source": [
    "t\n",
    "for i in range(len(a)):\n",
    "    l=[]\n",
    "    \n",
    "    #for k in range(2):\n",
    "        \n",
    "    for j in range(len(b[0])):\n",
    "            sum1=0\n",
    "            for k in range(len(a)):\n",
    "                #print(i,j)\n",
    "                #print(f\"{a[i][j]}*{b[j][i]}\")\n",
    "                sum1=sum1+a[i][k]*b[k][j]\n",
    "            l.append(sum1)\n",
    "        \n",
    "print(t)   "
   ]
  },
  {
   "cell_type": "markdown",
   "id": "fb8456f0-c54e-4807-950b-af198b788bd8",
   "metadata": {},
   "source": [
    "### 3.Write a Python Program to Transpose a Matrix?"
   ]
  },
  {
   "cell_type": "raw",
   "id": "903356e2-4991-4058-bddc-a70700b21bc7",
   "metadata": {},
   "source": [
    "[1,2,3]  = [1,2]\n",
    "[2,3,4]    [2,3]\n",
    "           [3,4]"
   ]
  },
  {
   "cell_type": "code",
   "execution_count": 65,
   "id": "2f5c8556-6efe-49f2-b096-760e30fea260",
   "metadata": {},
   "outputs": [
    {
     "data": {
      "text/plain": [
       "[[1, 2], [2, 3], [3, 4]]"
      ]
     },
     "execution_count": 65,
     "metadata": {},
     "output_type": "execute_result"
    }
   ],
   "source": [
    "[[a[j][i] for j in range(2)] for i in range(3)]\n",
    "    "
   ]
  },
  {
   "cell_type": "markdown",
   "id": "70e4b4f3-d5c5-4b1f-b6dd-ba7ea07f00ce",
   "metadata": {},
   "source": [
    "### 4.Write a Python Program to Sort Words in Alphabetic Order?"
   ]
  },
  {
   "cell_type": "code",
   "execution_count": 69,
   "id": "81f6631c-2a8d-4d4f-a100-ce1aab32621c",
   "metadata": {},
   "outputs": [
    {
     "name": "stdout",
     "output_type": "stream",
     "text": [
      "['a', 'h', 'k', 's']\n"
     ]
    }
   ],
   "source": [
    "word=[\"s\",\"a\",\"h\",\"k\"]\n",
    "print(sorted(word))"
   ]
  },
  {
   "cell_type": "markdown",
   "id": "f1a383be-78eb-4612-901f-0b941ea7eecb",
   "metadata": {},
   "source": [
    "### 5.Write a Python Program to Remove Punctuation From a String?"
   ]
  },
  {
   "cell_type": "code",
   "execution_count": 77,
   "id": "808c91b6-9029-41e4-b8ae-752760077499",
   "metadata": {},
   "outputs": [
    {
     "data": {
      "text/plain": [
       "'I love my country'"
      ]
     },
     "execution_count": 77,
     "metadata": {},
     "output_type": "execute_result"
    }
   ],
   "source": [
    "punct={\".\",\",\",\"'\",\"(\",\")\",\"!\",\"[\",\"]\",\"{\",\"}\",\"-\",\";\",\":\", \"”\",\"“\",\"?\",\"...\"}\n",
    "line=\"I love my country.\"\n",
    "l=[]\n",
    "for i in line:\n",
    "    if i not in punct:\n",
    "        l.append(i)\n",
    "\"\".join(l)"
   ]
  },
  {
   "cell_type": "code",
   "execution_count": null,
   "id": "c666c129-21ce-4e70-9223-32c3f17eefef",
   "metadata": {},
   "outputs": [],
   "source": []
  }
 ],
 "metadata": {
  "kernelspec": {
   "display_name": "Python 3 (ipykernel)",
   "language": "python",
   "name": "python3"
  },
  "language_info": {
   "codemirror_mode": {
    "name": "ipython",
    "version": 3
   },
   "file_extension": ".py",
   "mimetype": "text/x-python",
   "name": "python",
   "nbconvert_exporter": "python",
   "pygments_lexer": "ipython3",
   "version": "3.10.6"
  }
 },
 "nbformat": 4,
 "nbformat_minor": 5
}
