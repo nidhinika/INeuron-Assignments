{
 "cells": [
  {
   "cell_type": "markdown",
   "id": "a39a3a4a-b032-4f7d-8493-afd9cd8d4b37",
   "metadata": {},
   "source": [
    "## Assignment 5"
   ]
  },
  {
   "cell_type": "raw",
   "id": "0b481f09-db56-4164-9cfd-12f34f61bb1e",
   "metadata": {},
   "source": [
    "1. Write a Python Program to Find LCM?"
   ]
  },
  {
   "cell_type": "code",
   "execution_count": 4,
   "id": "bd72fbe3-107d-42d8-bccc-22b10da997b3",
   "metadata": {},
   "outputs": [
    {
     "name": "stdout",
     "output_type": "stream",
     "text": [
      "LCM is: 84\n"
     ]
    }
   ],
   "source": [
    "def lcm(a,b):\n",
    "    if(a>b):\n",
    "        min1=a\n",
    "    else:\n",
    "        min1=b\n",
    "    while(1):\n",
    "        if(min1%a==0 and min1%b==0):\n",
    "            print(\"LCM is:\",min1)\n",
    "            break\n",
    "        min1=min1+1\n",
    "lcm(12,7)"
   ]
  },
  {
   "cell_type": "raw",
   "id": "9c7514fe-5159-47c5-8466-3f8a5a2a9b7f",
   "metadata": {},
   "source": [
    "2. Write a Python Program to Find HCF?"
   ]
  },
  {
   "cell_type": "code",
   "execution_count": 13,
   "id": "a8c9db25-7b85-499d-aba1-f7cb9f34fbd2",
   "metadata": {},
   "outputs": [
    {
     "data": {
      "text/plain": [
       "1"
      ]
     },
     "execution_count": 13,
     "metadata": {},
     "output_type": "execute_result"
    }
   ],
   "source": [
    "def hcf(a,b):\n",
    "    if (a>=b and a%b==0):\n",
    "        return b\n",
    "    elif (b>a and b%a==0):\n",
    "        return a\n",
    "    else:\n",
    "        if a>b:\n",
    "            return  hcf(a%b,b)\n",
    "        else:\n",
    "            return hcf(b%a,a)\n",
    "hcf(49,1)          "
   ]
  },
  {
   "cell_type": "raw",
   "id": "44a5d82e-d7fe-4544-bbce-a02977456ecf",
   "metadata": {},
   "source": [
    "3. Write a Python Program to Convert Decimal to Binary, Octal and Hexadecimal?"
   ]
  },
  {
   "cell_type": "code",
   "execution_count": 23,
   "id": "6999c6a5-8d84-43e3-8ff0-914552099bdc",
   "metadata": {},
   "outputs": [
    {
     "data": {
      "text/plain": [
       "'10'"
      ]
     },
     "execution_count": 23,
     "metadata": {},
     "output_type": "execute_result"
    }
   ],
   "source": [
    "def convert_decimal(a, base=2):\n",
    "    convert_string=\"0123456789ABCDEF\"\n",
    "    if a<base:\n",
    "         return convert_string[a]\n",
    "    else:\n",
    "        return convert_decimal(a//base, base)+str(a%base)\n",
    "\n",
    "convert_decimal(16, 16)       "
   ]
  },
  {
   "cell_type": "raw",
   "id": "7e05d9a3-d65a-413f-ba4f-d4f703b1ce45",
   "metadata": {},
   "source": [
    "4. Write a Python Program To Find ASCII value of a character?"
   ]
  },
  {
   "cell_type": "code",
   "execution_count": 24,
   "id": "207b5ffd-decb-462f-a7d7-73d23729a751",
   "metadata": {},
   "outputs": [
    {
     "data": {
      "text/plain": [
       "65"
      ]
     },
     "execution_count": 24,
     "metadata": {},
     "output_type": "execute_result"
    }
   ],
   "source": [
    "def ascii_value(a):\n",
    "    return ord(a)\n",
    "ascii_value(\"A\")"
   ]
  },
  {
   "cell_type": "raw",
   "id": "7c69b48e-157b-4001-afd1-78d58d327591",
   "metadata": {},
   "source": [
    "5. Write a Python Program to Make a Simple Calculator with 4 basic mathematical operations?"
   ]
  },
  {
   "cell_type": "code",
   "execution_count": null,
   "id": "9429e26b-f7e8-4f5f-a008-37fe3db83f20",
   "metadata": {},
   "outputs": [],
   "source": [
    "def calculator(a,b, operation=\"Add\"):\n",
    "    if operation=\"Add\":\n",
    "        return a+b\n",
    "    elif operation=\"Subtract\":\n",
    "        return a-b\n",
    "    elif operation=\"Multiply\":\n",
    "        return a*b\n",
    "    elif operation=\"Divide\":\n",
    "        return a/b\n",
    "print(calculator(3,2, operation=\"Add\"))\n",
    "print(calculator(4,3, operation=\"Subtract\"))\n",
    "print(calculator(2,3, operation=\"Multiply\"))\n",
    "print(calculator(8,3, operation=\"Divide\"))"
   ]
  }
 ],
 "metadata": {
  "kernelspec": {
   "display_name": "Python 3 (ipykernel)",
   "language": "python",
   "name": "python3"
  },
  "language_info": {
   "codemirror_mode": {
    "name": "ipython",
    "version": 3
   },
   "file_extension": ".py",
   "mimetype": "text/x-python",
   "name": "python",
   "nbconvert_exporter": "python",
   "pygments_lexer": "ipython3",
   "version": "3.10.6"
  }
 },
 "nbformat": 4,
 "nbformat_minor": 5
}
