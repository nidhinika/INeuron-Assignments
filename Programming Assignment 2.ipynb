{
 "cells": [
  {
   "cell_type": "code",
   "execution_count": 3,
   "id": "5aaed06b-cceb-4b1d-9689-881c35b63dd8",
   "metadata": {},
   "outputs": [
    {
     "name": "stdin",
     "output_type": "stream",
     "text": [
      "Enter the distance in km 78\n"
     ]
    },
    {
     "name": "stdout",
     "output_type": "stream",
     "text": [
      "Distance in miles  48.466952819999996\n"
     ]
    }
   ],
   "source": [
    "#Write a Python program to convert kilometers to miles?\n",
    "km_dist=float(input(\"Enter the distance in km\"))\n",
    "mil_dist=0.62137119 * km_dist\n",
    "print(\"Distance in miles \", mil_dist)"
   ]
  },
  {
   "cell_type": "code",
   "execution_count": 4,
   "id": "ebe86cae-f277-464e-9421-d73fd5494b9c",
   "metadata": {},
   "outputs": [
    {
     "name": "stdin",
     "output_type": "stream",
     "text": [
      "Enter temprature in celcius 37.777\n"
     ]
    },
    {
     "name": "stdout",
     "output_type": "stream",
     "text": [
      "Temprature in fahrenheit 99.99860000000001\n"
     ]
    }
   ],
   "source": [
    "#Write a Python program to convert Celsius to Fahrenheit?\n",
    "temp_cel= float(input(\"Enter temprature in celcius\"))\n",
    "temp_far= ((9/5)*temp_cel) +32\n",
    "print(\"Temprature in fahrenheit\", temp_far)"
   ]
  },
  {
   "cell_type": "code",
   "execution_count": 6,
   "id": "d87e4c96-12b5-4b22-ad09-6396cb0a8485",
   "metadata": {},
   "outputs": [
    {
     "name": "stdin",
     "output_type": "stream",
     "text": [
      "Enter year:  2022\n",
      "Enter month:  11\n"
     ]
    },
    {
     "name": "stdout",
     "output_type": "stream",
     "text": [
      "   November 2022\n",
      "Mo Tu We Th Fr Sa Su\n",
      "    1  2  3  4  5  6\n",
      " 7  8  9 10 11 12 13\n",
      "14 15 16 17 18 19 20\n",
      "21 22 23 24 25 26 27\n",
      "28 29 30\n",
      "\n"
     ]
    }
   ],
   "source": [
    "#Write a Python program to display calendar?\n",
    "import calendar\n",
    "year = int(input(\"Enter year: \"))\n",
    "month = int(input(\"Enter month: \"))\n",
    "print(calendar.month(year, month))"
   ]
  },
  {
   "cell_type": "code",
   "execution_count": 13,
   "id": "fb8bd8a3-e227-48fa-b44d-9eec336b453b",
   "metadata": {},
   "outputs": [
    {
     "name": "stdin",
     "output_type": "stream",
     "text": [
      "Enter the value of a 1\n",
      "Enter the value of b 5\n",
      "Enter the value of c 6\n"
     ]
    },
    {
     "name": "stdout",
     "output_type": "stream",
     "text": [
      "The quadratic equation is 1.0 x^2 + 5.0x + 6.0\n",
      "Roots are -3.0 -2.0\n"
     ]
    }
   ],
   "source": [
    "#Write a Python program to solve quadratic equation?\n",
    "import math\n",
    "a=float(input(\"Enter the value of a\"))\n",
    "b=float(input(\"Enter the value of b\"))\n",
    "c=float(input(\"Enter the value of c\"))\n",
    "print(f\"The quadratic equation is {a} x^2 + {b}x + {c}\")\n",
    "d=(b**2)-(4*a*c)\n",
    "ans1= ((-1*b) - math.sqrt(d))/(2*a)\n",
    "ans2= ((-1*b) + math.sqrt(d))/(2*a)\n",
    "print(\"Roots are\", ans1, ans2)\n",
    "       \n",
    "\n"
   ]
  },
  {
   "cell_type": "code",
   "execution_count": null,
   "id": "65b35355-baef-4336-9a01-d462ae4f1ef1",
   "metadata": {},
   "outputs": [],
   "source": [
    "#Write a Python program to swap two variables without temp variable?"
   ]
  }
 ],
 "metadata": {
  "kernelspec": {
   "display_name": "Python 3 (ipykernel)",
   "language": "python",
   "name": "python3"
  },
  "language_info": {
   "codemirror_mode": {
    "name": "ipython",
    "version": 3
   },
   "file_extension": ".py",
   "mimetype": "text/x-python",
   "name": "python",
   "nbconvert_exporter": "python",
   "pygments_lexer": "ipython3",
   "version": "3.10.6"
  }
 },
 "nbformat": 4,
 "nbformat_minor": 5
}
