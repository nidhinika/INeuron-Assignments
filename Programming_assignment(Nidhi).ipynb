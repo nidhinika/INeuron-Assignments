{
 "cells": [
  {
   "cell_type": "code",
   "execution_count": 1,
   "id": "2557ecfb-e7b3-4c70-aefc-de379b21ed28",
   "metadata": {},
   "outputs": [
    {
     "name": "stdout",
     "output_type": "stream",
     "text": [
      "Hello World\n"
     ]
    }
   ],
   "source": [
    "#Write a Python program to print Hello World\n",
    "print(\"Hello World\")"
   ]
  },
  {
   "cell_type": "code",
   "execution_count": 4,
   "id": "f870e666-38a9-4846-8a7e-1bf0e42d0aa0",
   "metadata": {},
   "outputs": [
    {
     "name": "stdin",
     "output_type": "stream",
     "text": [
      "Enter a number 2\n",
      "Enter another number 3\n"
     ]
    },
    {
     "name": "stdout",
     "output_type": "stream",
     "text": [
      "5\n",
      "0\n"
     ]
    }
   ],
   "source": [
    "#Write a Python program to do arithmetical operations addition and division.?\n",
    "a=int(input(\"Enter a number\"))\n",
    "b=int(input(\"Enter another number\"))\n",
    "print(a+b)\n",
    "print(a//b)"
   ]
  },
  {
   "cell_type": "code",
   "execution_count": 5,
   "id": "a4991375-116d-4d58-8e22-d34f58ee6ae0",
   "metadata": {},
   "outputs": [
    {
     "name": "stdin",
     "output_type": "stream",
     "text": [
      "Enter base of the triangle 5\n",
      "Enter height of the triangle 8\n"
     ]
    },
    {
     "name": "stdout",
     "output_type": "stream",
     "text": [
      "Area of the triangle 20.0\n"
     ]
    }
   ],
   "source": [
    "# Write a Python program to find the area of a triangle?\n",
    "base= float(input(\"Enter base of the triangle\"))\n",
    "height=float(input(\"Enter height of the triangle\"))\n",
    "Area=0.5 * base * height\n",
    "print(\"Area of the triangle\", Area)\n",
    "             "
   ]
  },
  {
   "cell_type": "code",
   "execution_count": 9,
   "id": "482f4c5a-7dc8-4fcc-b4d6-0673839df67e",
   "metadata": {},
   "outputs": [
    {
     "name": "stdout",
     "output_type": "stream",
     "text": [
      "The value of a is 7\n",
      "The value of b is  9\n",
      "The value of a after swapping is  9\n",
      "The value of b after swapping is  7\n",
      "The value of a is 7\n",
      "The value of b is  9\n",
      "The value of a after swapping is  9\n",
      "The value of b after swapping is  7\n"
     ]
    }
   ],
   "source": [
    "#Write a Python program to swap two variables?\n",
    "#Method 1\n",
    "a=7\n",
    "b=9\n",
    "print(\"The value of a is\", a)\n",
    "print(\"The value of b is \", b)\n",
    "temp=a\n",
    "a=b\n",
    "b=temp\n",
    "print(\"The value of a after swapping is \",a)\n",
    "print(\"The value of b after swapping is \",b)\n",
    "\n",
    "#Method 2\n",
    "a=7\n",
    "b=9\n",
    "print(\"The value of a is\", a)\n",
    "print(\"The value of b is \",b)\n",
    "a=a+b\n",
    "b=a-b\n",
    "a=a-b\n",
    "print(\"The value of a after swapping is \",a)\n",
    "print(\"The value of b after swapping is \",b)\n",
    "\n",
    "\n",
    "\n"
   ]
  },
  {
   "cell_type": "code",
   "execution_count": 10,
   "id": "334c0639-4aef-4ed0-aed1-f9914d5441ce",
   "metadata": {},
   "outputs": [
    {
     "name": "stdout",
     "output_type": "stream",
     "text": [
      "8\n"
     ]
    }
   ],
   "source": [
    "#Write a Python program to generate a random number?\n",
    "import random\n",
    "a=random.randint(1,20)\n",
    "print(a)"
   ]
  },
  {
   "cell_type": "code",
   "execution_count": null,
   "id": "3f751ebe-d850-43ac-99a2-75c78111db99",
   "metadata": {},
   "outputs": [],
   "source": []
  }
 ],
 "metadata": {
  "kernelspec": {
   "display_name": "Python 3 (ipykernel)",
   "language": "python",
   "name": "python3"
  },
  "language_info": {
   "codemirror_mode": {
    "name": "ipython",
    "version": 3
   },
   "file_extension": ".py",
   "mimetype": "text/x-python",
   "name": "python",
   "nbconvert_exporter": "python",
   "pygments_lexer": "ipython3",
   "version": "3.10.6"
  }
 },
 "nbformat": 4,
 "nbformat_minor": 5
}
