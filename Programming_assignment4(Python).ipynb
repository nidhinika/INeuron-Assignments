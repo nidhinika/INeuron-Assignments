{
 "cells": [
  {
   "cell_type": "markdown",
   "id": "405b406d-43fe-4b0a-b96b-0eaa99d2ae92",
   "metadata": {},
   "source": [
    "1) Write a Python Program to Find the Factorial of a Number?"
   ]
  },
  {
   "cell_type": "code",
   "execution_count": 4,
   "id": "3ecccc9c-139d-4235-9c9d-71f5806ed627",
   "metadata": {},
   "outputs": [
    {
     "name": "stdin",
     "output_type": "stream",
     "text": [
      "Enter the number 5\n"
     ]
    },
    {
     "name": "stdout",
     "output_type": "stream",
     "text": [
      "120\n"
     ]
    }
   ],
   "source": [
    "fact=1\n",
    "a=int(input(\"Enter the number\"))\n",
    "for i in range(1,a+1):\n",
    "    fact=fact*i\n",
    "print(fact)\n"
   ]
  },
  {
   "cell_type": "markdown",
   "id": "d8da9051-4578-488a-9119-2f8a5a487c44",
   "metadata": {},
   "source": [
    "2. Write a Python Program to Display the multiplication Table?"
   ]
  },
  {
   "cell_type": "code",
   "execution_count": 5,
   "id": "f5e21000-f712-499a-a7fd-947b0adf8a35",
   "metadata": {},
   "outputs": [
    {
     "name": "stdin",
     "output_type": "stream",
     "text": [
      "Enter the number 5\n"
     ]
    },
    {
     "name": "stdout",
     "output_type": "stream",
     "text": [
      "5X1=5\n",
      "5X2=10\n",
      "5X3=15\n",
      "5X4=20\n",
      "5X5=25\n",
      "5X6=30\n",
      "5X7=35\n",
      "5X8=40\n",
      "5X9=45\n",
      "5X10=50\n"
     ]
    }
   ],
   "source": [
    "a=int(input(\"Enter the number\"))\n",
    "for i in range(1,11):\n",
    "    print(f\"{a}X{i}={a*i}\")"
   ]
  },
  {
   "cell_type": "markdown",
   "id": "1755264c-b474-4c0a-9ba9-df138da46fba",
   "metadata": {},
   "source": [
    "3. Write a Python Program to Print the Fibonacci sequence?"
   ]
  },
  {
   "cell_type": "code",
   "execution_count": 26,
   "id": "884a9992-767c-4ad6-991d-65a5e67a7860",
   "metadata": {},
   "outputs": [
    {
     "name": "stdin",
     "output_type": "stream",
     "text": [
      "Enter the number 8\n"
     ]
    },
    {
     "name": "stdout",
     "output_type": "stream",
     "text": [
      "[0, 1, 1, 2, 3, 5, 8, 13]\n"
     ]
    }
   ],
   "source": [
    "a=0\n",
    "b=1\n",
    "k=[]\n",
    "n=int(input(\"Enter the number\"))\n",
    "for i in range(n):\n",
    "    if i == 0:\n",
    "        k.append(a)\n",
    "    elif i==1:\n",
    "        k.append(b)\n",
    "    else:\n",
    "        c=a+b\n",
    "        k.append(c)\n",
    "        a=b\n",
    "        b=c\n",
    "        \n",
    "print(k)\n"
   ]
  },
  {
   "cell_type": "markdown",
   "id": "e685e8f8-4bbb-4737-9ed0-3814806a8cca",
   "metadata": {},
   "source": [
    "4. Write a Python Program to Check Armstrong Number?"
   ]
  },
  {
   "cell_type": "code",
   "execution_count": 55,
   "id": "5cdc7924-9b11-4a5b-b7e8-7532747c5964",
   "metadata": {},
   "outputs": [
    {
     "name": "stdin",
     "output_type": "stream",
     "text": [
      "Enter a number 407\n"
     ]
    },
    {
     "name": "stdout",
     "output_type": "stream",
     "text": [
      "Armstrong Number\n"
     ]
    }
   ],
   "source": [
    "a=int(input(\"Enter a number\"))\n",
    "add=0\n",
    "k=a\n",
    "count=0\n",
    "while(k!=0):\n",
    "    count=count+1\n",
    "    k=k//10\n",
    "\n",
    "k=a\n",
    "while(k!=0):\n",
    "    m=k%10\n",
    "    add=add+pow(m, count)\n",
    "    k= k//10\n",
    "\n",
    "    \n",
    "\n",
    "if add== a:\n",
    "    print(\"Armstrong Number\")\n",
    "else:\n",
    "    print(\"Not an Armstrong\")\n",
    "    \n",
    "\n",
    "\n",
    "    "
   ]
  },
  {
   "cell_type": "markdown",
   "id": "97ff0049-0699-41ce-8405-0c692155f329",
   "metadata": {},
   "source": [
    "5. Write a Python Program to Find Armstrong Number in an Interval?"
   ]
  },
  {
   "cell_type": "code",
   "execution_count": 57,
   "id": "fc9e2f2a-01d4-48e4-a405-92e3dfb1a247",
   "metadata": {},
   "outputs": [
    {
     "name": "stdin",
     "output_type": "stream",
     "text": [
      "Enter lower range of the interval 1\n",
      "Enter the upper range of the interval 1000\n"
     ]
    },
    {
     "name": "stdout",
     "output_type": "stream",
     "text": [
      "[1, 2, 3, 4, 5, 6, 7, 8, 9, 153, 370, 371, 407]\n"
     ]
    }
   ],
   "source": [
    "lower=int(input(\"Enter lower range of the interval\"))\n",
    "upper=int(input(\"Enter the upper range of the interval\"))\n",
    "l=[]\n",
    "for i in range(lower, upper+1):\n",
    "    add=0\n",
    "    k=i\n",
    "    count=0\n",
    "    while(k!=0):\n",
    "        count=count+1\n",
    "        k=k//10\n",
    "\n",
    "    k=i\n",
    "    while(k!=0):\n",
    "        m=k%10\n",
    "        add=add+pow(m, count)\n",
    "        k= k//10\n",
    "          \n",
    "    if add== i:\n",
    "        l.append(i)\n",
    "print(l)\n",
    "    "
   ]
  },
  {
   "cell_type": "markdown",
   "id": "b7042961-6bab-434c-b95d-03559f58b009",
   "metadata": {},
   "source": [
    "6. Write a Python Program to Find the Sum of Natural Numbers?"
   ]
  },
  {
   "cell_type": "code",
   "execution_count": null,
   "id": "5bf78474-7956-4db4-b43a-c7a992657ac9",
   "metadata": {},
   "outputs": [],
   "source": [
    "n=int(input(\"Enter the number "
   ]
  }
 ],
 "metadata": {
  "kernelspec": {
   "display_name": "Python 3 (ipykernel)",
   "language": "python",
   "name": "python3"
  },
  "language_info": {
   "codemirror_mode": {
    "name": "ipython",
    "version": 3
   },
   "file_extension": ".py",
   "mimetype": "text/x-python",
   "name": "python",
   "nbconvert_exporter": "python",
   "pygments_lexer": "ipython3",
   "version": "3.10.6"
  }
 },
 "nbformat": 4,
 "nbformat_minor": 5
}
