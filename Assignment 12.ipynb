{
 "cells": [
  {
   "cell_type": "markdown",
   "id": "005507df-5989-419d-a231-5cf927ad9ded",
   "metadata": {},
   "source": [
    "## Assignment 12"
   ]
  },
  {
   "cell_type": "markdown",
   "id": "011f3e1f-fbb9-4e11-b7c7-e45df1d67957",
   "metadata": {},
   "source": [
    "### 1. Write a Python program to Extract Unique values dictionary values?"
   ]
  },
  {
   "cell_type": "code",
   "execution_count": 14,
   "id": "c5ea966a-c5ac-459c-92a4-0b76371b137c",
   "metadata": {},
   "outputs": [],
   "source": [
    "de={1:1,2:1,5:8,4:3}\n",
    "uq=set()\n",
    "for i in de.values():\n",
    "    if i not in uq:\n",
    "        uq.add(i)"
   ]
  },
  {
   "cell_type": "code",
   "execution_count": 15,
   "id": "1f355520-40d9-491e-8d84-cdadeeb8f5fe",
   "metadata": {},
   "outputs": [
    {
     "data": {
      "text/plain": [
       "{1, 3, 8}"
      ]
     },
     "execution_count": 15,
     "metadata": {},
     "output_type": "execute_result"
    }
   ],
   "source": [
    "uq"
   ]
  },
  {
   "cell_type": "markdown",
   "id": "64164e90-10bc-4c85-ac63-34e6e396b38d",
   "metadata": {},
   "source": [
    "### 2. Write a Python program to find the sum of all items in a dictionary?"
   ]
  },
  {
   "cell_type": "code",
   "execution_count": 16,
   "id": "73c9d06b-6ce7-419f-b1f5-4a10b3652f39",
   "metadata": {},
   "outputs": [
    {
     "name": "stdout",
     "output_type": "stream",
     "text": [
      "600\n"
     ]
    }
   ],
   "source": [
    "dict = {'a': 100, 'b': 200, 'c': 300}\n",
    "print(sum(dict.values()))"
   ]
  },
  {
   "cell_type": "markdown",
   "id": "c27ea11f-746b-41a1-b64b-0184a68b56ef",
   "metadata": {},
   "source": [
    "### 3. Write a Python program to Merging two Dictionaries?"
   ]
  },
  {
   "cell_type": "code",
   "execution_count": 21,
   "id": "365f1976-9d11-4dce-a6a6-66bbf9dc19e7",
   "metadata": {},
   "outputs": [],
   "source": [
    "de={1:1,2:1,5:8,4:3}\n",
    "dic = {'a': 100, 'b': 200, 'c': 300}"
   ]
  },
  {
   "cell_type": "code",
   "execution_count": 22,
   "id": "21571984-e6dd-4168-aa07-0cee50066ee1",
   "metadata": {},
   "outputs": [],
   "source": [
    "de.update(dict)"
   ]
  },
  {
   "cell_type": "code",
   "execution_count": 23,
   "id": "7f7536f4-23d6-47a9-b6f4-4490891a4b59",
   "metadata": {},
   "outputs": [
    {
     "data": {
      "text/plain": [
       "{1: 1, 2: 1, 5: 8, 4: 3, 'a': 100, 'b': 200, 'c': 300}"
      ]
     },
     "execution_count": 23,
     "metadata": {},
     "output_type": "execute_result"
    }
   ],
   "source": [
    "de"
   ]
  },
  {
   "cell_type": "markdown",
   "id": "e86ba9a2-c1b7-426b-b517-b0b7f2e5d2e3",
   "metadata": {},
   "source": [
    "### 4. Write a Python program to convert key-values list to flat dictionary?"
   ]
  },
  {
   "cell_type": "code",
   "execution_count": 35,
   "id": "7d1b84a1-60c7-4ea3-8044-569b599586e4",
   "metadata": {},
   "outputs": [],
   "source": [
    "test_dict = {'month' : [1, 2, 3],\n",
    "             'name' : ['Jan', 'Feb', 'March']}\n",
    "a=list(test_dict.values() )   "
   ]
  },
  {
   "cell_type": "code",
   "execution_count": 37,
   "id": "004dc241-43a3-447e-8284-fcdbc3acf0dd",
   "metadata": {},
   "outputs": [
    {
     "data": {
      "text/plain": [
       "{1: 'Jan', 2: 'Feb', 3: 'March'}"
      ]
     },
     "execution_count": 37,
     "metadata": {},
     "output_type": "execute_result"
    }
   ],
   "source": [
    "l={}\n",
    "for i  in range(len(a[0])):\n",
    "                l[a[0][i]]=a[1][i]\n",
    "    \n",
    "\n",
    "l       "
   ]
  },
  {
   "cell_type": "markdown",
   "id": "39d17a79-e6ba-4cc8-9e5b-2caa78019518",
   "metadata": {},
   "source": [
    "### 5. Write a Python program to insertion at the beginning in OrderedDict?"
   ]
  },
  {
   "cell_type": "code",
   "execution_count": 40,
   "id": "af1168fb-5f58-4843-940c-57c469233b6e",
   "metadata": {},
   "outputs": [
    {
     "name": "stdout",
     "output_type": "stream",
     "text": [
      "OrderedDict([('jeet', '4'), ('kash', '4'), ('nidhi', '1'), ('nikhil', '2')])\n"
     ]
    }
   ],
   "source": [
    "from collections import OrderedDict\n",
    "ini_dict1 = OrderedDict([('nidhi', '1'), ('nikhil', '2')])\n",
    "ini_dict2 = OrderedDict([(\"jeet\", '4'), (\"kash\", '4')])\n",
    "both = OrderedDict(list(ini_dict2.items()) + list(ini_dict1.items()))\n",
    "print(both)"
   ]
  },
  {
   "cell_type": "markdown",
   "id": "f9796b5c-b212-4826-883f-040624b2fa95",
   "metadata": {},
   "source": [
    "### 6. Write a Python program to check order of character in string using OrderedDict()?"
   ]
  },
  {
   "cell_type": "code",
   "execution_count": 44,
   "id": "8c879d40-2c85-46a0-8cb6-45eefbda8d13",
   "metadata": {},
   "outputs": [
    {
     "data": {
      "text/plain": [
       "OrderedDict([('g', None), ('f', None), ('h', None)])"
      ]
     },
     "execution_count": 44,
     "metadata": {},
     "output_type": "execute_result"
    }
   ],
   "source": [
    "OrderedDict.fromkeys(\"gfgh\") \n",
    "for key,value in dict.items(): \n",
    "        if (key == pattern[ptrlen]): \n",
    "            ptrlen = ptrlen + 1\n",
    "        if (ptrlen == (len(pattern))): \n",
    "            return True\n",
    "return False"
   ]
  },
  {
   "cell_type": "code",
   "execution_count": 58,
   "id": "49cf067d-45d8-44e7-bd6f-1799b0948ccf",
   "metadata": {},
   "outputs": [
    {
     "data": {
      "text/plain": [
       "True"
      ]
     },
     "execution_count": 58,
     "metadata": {},
     "output_type": "execute_result"
    }
   ],
   "source": [
    "def check_dict(a,pattern):\n",
    "    dict = OrderedDict.fromkeys(a) \n",
    "    ptrlen = 0\n",
    "    for key,value in dict.items(): \n",
    "        if (key == pattern[ptrlen]): \n",
    "            ptrlen = ptrlen + 1\n",
    "        if (ptrlen == (len(pattern))): \n",
    "            return True\n",
    "    return False\n",
    "check_dict(\"engineers rock\",\"er\")"
   ]
  },
  {
   "cell_type": "markdown",
   "id": "9e1f232f-efe2-4237-b292-144a18d8f62a",
   "metadata": {},
   "source": [
    "### 7. Write a Python program to sort Python Dictionaries by Key or Value?"
   ]
  },
  {
   "cell_type": "code",
   "execution_count": 42,
   "id": "865d147f-f19e-4697-a342-ac1091f42ef9",
   "metadata": {},
   "outputs": [
    {
     "data": {
      "text/plain": [
       "[1, 1, 3, 8, 100, 200, 300]"
      ]
     },
     "execution_count": 42,
     "metadata": {},
     "output_type": "execute_result"
    }
   ],
   "source": [
    "l={1: 1, 2: 1, 5: 8, 4: 3, 'a': 100, 'b': 200, 'c': 300}\n",
    "sorted(list(l.values()))"
   ]
  },
  {
   "cell_type": "code",
   "execution_count": 43,
   "id": "c7dfd5e4-48b1-40aa-b5f6-3449117f822b",
   "metadata": {},
   "outputs": [
    {
     "data": {
      "text/plain": [
       "[1, 2, 4, 5, 7, 56, 360]"
      ]
     },
     "execution_count": 43,
     "metadata": {},
     "output_type": "execute_result"
    }
   ],
   "source": [
    "l={1: 1, 2: 1, 5: 8, 4: 3, 56: 100, 7: 200, 360: 300}\n",
    "sorted(list(l.keys()))"
   ]
  },
  {
   "cell_type": "code",
   "execution_count": null,
   "id": "b39e6a70-e64f-47c3-a3ee-f5896d442b05",
   "metadata": {},
   "outputs": [],
   "source": []
  }
 ],
 "metadata": {
  "kernelspec": {
   "display_name": "Python 3 (ipykernel)",
   "language": "python",
   "name": "python3"
  },
  "language_info": {
   "codemirror_mode": {
    "name": "ipython",
    "version": 3
   },
   "file_extension": ".py",
   "mimetype": "text/x-python",
   "name": "python",
   "nbconvert_exporter": "python",
   "pygments_lexer": "ipython3",
   "version": "3.10.6"
  }
 },
 "nbformat": 4,
 "nbformat_minor": 5
}
