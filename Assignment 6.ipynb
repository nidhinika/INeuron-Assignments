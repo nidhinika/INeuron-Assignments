{
 "cells": [
  {
   "cell_type": "markdown",
   "id": "5babc136-fdc3-4c77-9c66-391d9ad63b34",
   "metadata": {},
   "source": [
    "## Assignment 6"
   ]
  },
  {
   "cell_type": "markdown",
   "id": "b5897eba-04ea-47f6-ab25-b7ef7e48a272",
   "metadata": {},
   "source": [
    "### 1. Write a Python Program to Display Fibonacci Sequence Using Recursion?"
   ]
  },
  {
   "cell_type": "code",
   "execution_count": 14,
   "id": "1c2032cd-5fa7-4bea-a23d-c778d1cd41b3",
   "metadata": {},
   "outputs": [
    {
     "data": {
      "text/plain": [
       "8"
      ]
     },
     "execution_count": 14,
     "metadata": {},
     "output_type": "execute_result"
    }
   ],
   "source": [
    "def fib(a):\n",
    "    if a==1 :\n",
    "        return 0\n",
    "    elif a==2:\n",
    "        return 1\n",
    "    else:\n",
    "        return fib(a-1)+fib(a-2)\n",
    "fib(7)\n",
    "        "
   ]
  },
  {
   "cell_type": "markdown",
   "id": "744f62c7-76ed-4b8b-bc1f-cea5925d558f",
   "metadata": {},
   "source": [
    "### 2. Write a Python Program to Find Factorial of Number Using Recursion?"
   ]
  },
  {
   "cell_type": "code",
   "execution_count": 5,
   "id": "576db08c-a3a0-495c-860d-500983cabeeb",
   "metadata": {},
   "outputs": [
    {
     "data": {
      "text/plain": [
       "120"
      ]
     },
     "execution_count": 5,
     "metadata": {},
     "output_type": "execute_result"
    }
   ],
   "source": [
    "def fact(a):\n",
    "    if a==1:\n",
    "        return 1\n",
    "    else:\n",
    "        return a*fact(a-1)\n",
    "fact(5)\n",
    "        "
   ]
  },
  {
   "cell_type": "markdown",
   "id": "0e29cbda-a15f-453e-838b-c17822129538",
   "metadata": {},
   "source": [
    "### 3. Write a Python Program to calculate your Body Mass Index?"
   ]
  },
  {
   "cell_type": "code",
   "execution_count": 19,
   "id": "662062a9-cbd2-409e-aeb4-68f26dad8296",
   "metadata": {},
   "outputs": [
    {
     "data": {
      "text/plain": [
       "25.969529085872576"
      ]
     },
     "execution_count": 19,
     "metadata": {},
     "output_type": "execute_result"
    }
   ],
   "source": [
    "def bmi(height_in_m,weight_in_kg):\n",
    "    return (weight_in_kg)/(height_in_m**2)\n",
    "bmi(1.52,60)"
   ]
  },
  {
   "cell_type": "markdown",
   "id": "eaf3e97d-ac0a-4194-9d52-ed10549cc253",
   "metadata": {},
   "source": [
    "### 4. Write a Python Program to calculate the natural logarithm of any number?"
   ]
  },
  {
   "cell_type": "code",
   "execution_count": 22,
   "id": "152b1483-9e5a-49f1-9267-b0533e269e6c",
   "metadata": {},
   "outputs": [
    {
     "data": {
      "text/plain": [
       "0.6931471805599453"
      ]
     },
     "execution_count": 22,
     "metadata": {},
     "output_type": "execute_result"
    }
   ],
   "source": [
    "import math\n",
    "def log(x):\n",
    "    return math.log(x)\n",
    "log(2)\n"
   ]
  },
  {
   "cell_type": "markdown",
   "id": "c3297305-99d1-4892-b0b8-6eea5a415792",
   "metadata": {},
   "source": [
    "### 5. Write a Python Program for cube sum of first n natural numbers?"
   ]
  },
  {
   "cell_type": "code",
   "execution_count": 26,
   "id": "131ba446-5f40-4650-b17b-4165efe8a3c3",
   "metadata": {},
   "outputs": [
    {
     "data": {
      "text/plain": [
       "36"
      ]
     },
     "execution_count": 26,
     "metadata": {},
     "output_type": "execute_result"
    }
   ],
   "source": [
    "def cube_sum(n):\n",
    "    if n==1:\n",
    "        return 1\n",
    "    else:\n",
    "        return n**3+ cube_sum(n-1)\n",
    "cube_sum(3)       \n",
    "        "
   ]
  },
  {
   "cell_type": "code",
   "execution_count": null,
   "id": "a7ca3e79-ce8e-4592-a92d-654fc2fdec44",
   "metadata": {},
   "outputs": [],
   "source": []
  },
  {
   "cell_type": "code",
   "execution_count": null,
   "id": "c327eb69-3f68-4481-9b3e-ef50e3dfd3e8",
   "metadata": {},
   "outputs": [],
   "source": []
  }
 ],
 "metadata": {
  "kernelspec": {
   "display_name": "Python 3 (ipykernel)",
   "language": "python",
   "name": "python3"
  },
  "language_info": {
   "codemirror_mode": {
    "name": "ipython",
    "version": 3
   },
   "file_extension": ".py",
   "mimetype": "text/x-python",
   "name": "python",
   "nbconvert_exporter": "python",
   "pygments_lexer": "ipython3",
   "version": "3.10.6"
  }
 },
 "nbformat": 4,
 "nbformat_minor": 5
}
