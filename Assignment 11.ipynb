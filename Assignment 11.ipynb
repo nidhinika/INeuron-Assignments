{
 "cells": [
  {
   "cell_type": "markdown",
   "id": "65e08031-d751-4f82-b75d-cce3b18568e1",
   "metadata": {},
   "source": [
    "## Assignment 11"
   ]
  },
  {
   "cell_type": "markdown",
   "id": "daa6623c-38e1-4794-9b26-f8c2dfa89293",
   "metadata": {},
   "source": [
    "### 1. Write a Python program to find words which are greater than given length k?"
   ]
  },
  {
   "cell_type": "code",
   "execution_count": 5,
   "id": "446e75d9-15ed-41dd-85fd-eeff6fa77d09",
   "metadata": {},
   "outputs": [
    {
     "name": "stdout",
     "output_type": "stream",
     "text": [
      "kjl\n"
     ]
    }
   ],
   "source": [
    "k=2\n",
    "word=[\"kjl\",\"k\",\"lk\"]\n",
    "for i in word:\n",
    "    if len(i)>k:\n",
    "        print(i)"
   ]
  },
  {
   "cell_type": "markdown",
   "id": "e311dcf1-4be3-4682-9d8b-13cabba172e4",
   "metadata": {},
   "source": [
    "### 2. Write a Python program for removing i-th character from a string?"
   ]
  },
  {
   "cell_type": "code",
   "execution_count": 9,
   "id": "03f514b7-3ff0-40ef-b380-3ce1362dc5f4",
   "metadata": {},
   "outputs": [
    {
     "data": {
      "text/plain": [
       "'I ove my country'"
      ]
     },
     "execution_count": 9,
     "metadata": {},
     "output_type": "execute_result"
    }
   ],
   "source": [
    "i=2\n",
    "l=\"I love my country\"\n",
    "l.replace(l[2],\"\")"
   ]
  },
  {
   "cell_type": "markdown",
   "id": "314cbbd7-dfb4-4fbd-88bb-4286490645f8",
   "metadata": {},
   "source": [
    "### 3. Write a Python program to split and join a string?"
   ]
  },
  {
   "cell_type": "code",
   "execution_count": 11,
   "id": "3f3202fb-e6b4-44b4-b2be-9790330d2b15",
   "metadata": {},
   "outputs": [
    {
     "data": {
      "text/plain": [
       "'I love my country'"
      ]
     },
     "execution_count": 11,
     "metadata": {},
     "output_type": "execute_result"
    }
   ],
   "source": [
    "l=\"I love my country\"\n",
    "k=l.split()\n",
    "\" \".join(k)"
   ]
  },
  {
   "cell_type": "markdown",
   "id": "1075215c-a19e-40ed-a208-762af2e3d75f",
   "metadata": {},
   "source": [
    "### 4. Write a Python to check if a given string is binary string or not?"
   ]
  },
  {
   "cell_type": "code",
   "execution_count": 12,
   "id": "10b165f6-8d8d-4b25-846e-c212a093f9cd",
   "metadata": {},
   "outputs": [],
   "source": [
    "def binary_check(a):\n",
    "    f=0\n",
    "    for i in a:\n",
    "        if i not in {\"0\",\"1\"}:\n",
    "            f=1\n",
    "            break\n",
    "    if f==0:\n",
    "        return True\n",
    "    else:\n",
    "        return False\n",
    "        \n",
    "        \n",
    "            \n"
   ]
  },
  {
   "cell_type": "code",
   "execution_count": 13,
   "id": "16fada0e-09b4-4eab-ab2b-1e228cbb463f",
   "metadata": {},
   "outputs": [
    {
     "data": {
      "text/plain": [
       "True"
      ]
     },
     "execution_count": 13,
     "metadata": {},
     "output_type": "execute_result"
    }
   ],
   "source": [
    " binary_check(\"1010\")"
   ]
  },
  {
   "cell_type": "code",
   "execution_count": 14,
   "id": "8007a1cc-752d-4461-886b-65769356bf8d",
   "metadata": {},
   "outputs": [
    {
     "data": {
      "text/plain": [
       "False"
      ]
     },
     "execution_count": 14,
     "metadata": {},
     "output_type": "execute_result"
    }
   ],
   "source": [
    "binary_check(\"1012\")"
   ]
  },
  {
   "cell_type": "markdown",
   "id": "186d54b1-3846-4396-a2af-290e54038256",
   "metadata": {},
   "source": [
    "### 5. Write a Python program to find uncommon words from two Strings?"
   ]
  },
  {
   "cell_type": "code",
   "execution_count": 15,
   "id": "112acf9e-f6b3-476b-8a50-2be914c97468",
   "metadata": {},
   "outputs": [],
   "source": [
    "a=\"I love my country\"\n",
    "b=\"He love his country\"\n",
    "a1=a.split()\n",
    "b1=b.split()\n",
    "com=[]\n",
    "for i in a1:\n",
    "    for j in b1:\n",
    "        if i==j:\n",
    "            com.append(j)"
   ]
  },
  {
   "cell_type": "code",
   "execution_count": 16,
   "id": "84357ded-c4f4-4b6f-b4d7-17351d373269",
   "metadata": {},
   "outputs": [
    {
     "data": {
      "text/plain": [
       "['love', 'country']"
      ]
     },
     "execution_count": 16,
     "metadata": {},
     "output_type": "execute_result"
    }
   ],
   "source": [
    "com"
   ]
  },
  {
   "cell_type": "markdown",
   "id": "b53c56af-6fbc-4275-876d-6d9659416c0f",
   "metadata": {},
   "source": [
    "### 6. Write a Python to find all duplicate characters in string?"
   ]
  },
  {
   "cell_type": "code",
   "execution_count": 19,
   "id": "f237680c-f4fe-491e-8fbd-358b63a321ad",
   "metadata": {},
   "outputs": [
    {
     "name": "stdout",
     "output_type": "stream",
     "text": [
      "g 3\n",
      "f 2\n",
      "h 2\n"
     ]
    }
   ],
   "source": [
    "a=\"gfghyucgfhnkl\"\n",
    "dic={}\n",
    "for i in a:\n",
    "    if i not in dic:\n",
    "        dic[i]=1\n",
    "    else:\n",
    "        dic[i]=dic[i]+1\n",
    "for char, count in dic.items():\n",
    "    if count>1:\n",
    "        print(char,count)"
   ]
  },
  {
   "cell_type": "markdown",
   "id": "51c826b6-4af3-4a38-b215-fd16b106b24d",
   "metadata": {},
   "source": [
    "### 7. Write a Python Program to check if a string contains any special character?"
   ]
  },
  {
   "cell_type": "code",
   "execution_count": 28,
   "id": "5a323389-0ea5-4a4a-91b9-2475f57ca645",
   "metadata": {},
   "outputs": [],
   "source": [
    "a=\"a@bosm*\"\n",
    "spl='[ @ _ ! # $ % ^ & * ( ) < > ? / \\ | } { ~ : ]'\n",
    "k=set(spl.split())"
   ]
  },
  {
   "cell_type": "code",
   "execution_count": 32,
   "id": "7f3ac51e-08af-42f7-82f7-0f512784d1cb",
   "metadata": {},
   "outputs": [
    {
     "data": {
      "text/plain": [
       "True"
      ]
     },
     "execution_count": 32,
     "metadata": {},
     "output_type": "execute_result"
    }
   ],
   "source": [
    "def special_check(a):\n",
    "    for i in a:\n",
    "        if i in k:\n",
    "            return True\n",
    "    else:\n",
    "            return False\n",
    "special_check(a)     "
   ]
  },
  {
   "cell_type": "code",
   "execution_count": null,
   "id": "fffb5d6f-8496-4c54-92ad-3ad4d93c7e5d",
   "metadata": {},
   "outputs": [],
   "source": []
  }
 ],
 "metadata": {
  "kernelspec": {
   "display_name": "Python 3 (ipykernel)",
   "language": "python",
   "name": "python3"
  },
  "language_info": {
   "codemirror_mode": {
    "name": "ipython",
    "version": 3
   },
   "file_extension": ".py",
   "mimetype": "text/x-python",
   "name": "python",
   "nbconvert_exporter": "python",
   "pygments_lexer": "ipython3",
   "version": "3.10.6"
  }
 },
 "nbformat": 4,
 "nbformat_minor": 5
}
